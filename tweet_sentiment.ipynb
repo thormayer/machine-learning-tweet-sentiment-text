{
 "cells": [
  {
   "cell_type": "code",
   "execution_count": 2,
   "metadata": {},
   "outputs": [],
   "source": [
    "import tweepy\n",
    "from textblob import TextBlob\n"
   ]
  },
  {
   "cell_type": "code",
   "execution_count": 3,
   "metadata": {},
   "outputs": [],
   "source": [
    "key = 'SrVP8E3KDGTXerH47gYDm5qy2'\n",
    "secret = 'vWWQY31mm7zjJAxubsMSPqUugpSPZ6JqMcbIN24w24ut5KW8zD'\n",
    "\n",
    "token = '60629595-N07qj7EnXRmMG14Tel2mNIegSZL9EKzStWIHocwL8'\n",
    "token_secret = 'JvY4fZFw2RbdHw8zWakro0BIkROWdZkyji7p8bn3qR90k'"
   ]
  },
  {
   "cell_type": "code",
   "execution_count": 4,
   "metadata": {},
   "outputs": [],
   "source": [
    "auth = tweepy.OAuthHandler(key, secret)"
   ]
  },
  {
   "cell_type": "code",
   "execution_count": 5,
   "metadata": {},
   "outputs": [],
   "source": [
    "auth.set_access_token(token, token_secret)"
   ]
  },
  {
   "cell_type": "code",
   "execution_count": 6,
   "metadata": {},
   "outputs": [],
   "source": [
    "api = tweepy.API(auth)"
   ]
  },
  {
   "cell_type": "code",
   "execution_count": 38,
   "metadata": {},
   "outputs": [],
   "source": [
    "public_tweets = api.search('nethanyahu')"
   ]
  },
  {
   "cell_type": "code",
   "execution_count": 39,
   "metadata": {},
   "outputs": [
    {
     "name": "stdout",
     "output_type": "stream",
     "text": [
      "RT @hammad5633: @BBCWorld Nethanyahu needs to be removed due to his involvement in corruption.\n",
      "Sentiment(polarity=-0.125, subjectivity=0.375)\n",
      "@BBCWorld Nethanyahu needs to be removed due to his involvement in corruption.\n",
      "Sentiment(polarity=-0.125, subjectivity=0.375)\n",
      "@SCMP_News Nethanyahu Inc is going to be charged by Israel police with theft over $1,000. This could possibly expla… https://t.co/P4RNjEt2CX\n",
      "Sentiment(polarity=0.0, subjectivity=1.0)\n",
      "@RonnyNaftaniel CIDI als vertolker van standpunten Nethanyahu. Propaganda.\n",
      "Sentiment(polarity=-0.1, subjectivity=0.1)\n",
      "STFU ! Nethanyahu is the biggest kuta out there !!! He doesn't love India he loves your fucking money ! Ignorant mu… https://t.co/ejX9g5TMrQ\n",
      "Sentiment(polarity=-0.125, subjectivity=0.7)\n",
      "@SultanAshutosh @SRKsYODHA @AsYouNotWish Funny thing is many hindu actors like hrithik akshay and ajay didn't even… https://t.co/34aF8ArBzo\n",
      "Sentiment(polarity=0.375, subjectivity=0.75)\n"
     ]
    }
   ],
   "source": [
    "for tweet in public_tweets:\n",
    "    \n",
    "    analysis = TextBlob(tweet.text)\n",
    "    if analysis.sentiment.subjectivity > 0 :\n",
    "        print(tweet.text)\n",
    "        print( analysis.sentiment)"
   ]
  },
  {
   "cell_type": "code",
   "execution_count": null,
   "metadata": {},
   "outputs": [],
   "source": []
  }
 ],
 "metadata": {
  "kernelspec": {
   "display_name": "Python 3",
   "language": "python",
   "name": "python3"
  },
  "language_info": {
   "codemirror_mode": {
    "name": "ipython",
    "version": 3
   },
   "file_extension": ".py",
   "mimetype": "text/x-python",
   "name": "python",
   "nbconvert_exporter": "python",
   "pygments_lexer": "ipython3",
   "version": "3.6.4"
  }
 },
 "nbformat": 4,
 "nbformat_minor": 2
}
